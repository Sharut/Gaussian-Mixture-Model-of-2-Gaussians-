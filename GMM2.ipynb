{
 "cells": [
  {
   "cell_type": "code",
   "execution_count": 2,
   "metadata": {},
   "outputs": [
    {
     "name": "stdout",
     "output_type": "stream",
     "text": [
      "import done\n"
     ]
    }
   ],
   "source": [
    "# import libraries\n",
    "\n",
    "# For plotting\n",
    "\"seaborn: statistical data visualization\"\n",
    "import matplotlib.pyplot as plt\n",
    "import seaborn as sns\n",
    "sns.set_style(\"white\")\n",
    "%matplotlib inline\n",
    "#for matrix math\n",
    "import numpy as np\n",
    "#for normalization + probability density function computation\n",
    "from scipy import stats\n",
    "#for data preprocessing\n",
    "import pandas as pd\n",
    "from math import sqrt, log, exp, pi\n",
    "from random import uniform\n",
    "print(\"import done\")\n"
   ]
  },
  {
   "cell_type": "code",
   "execution_count": 3,
   "metadata": {},
   "outputs": [
    {
     "name": "stdout",
     "output_type": "stream",
     "text": [
      "[-0.87012123  8.72030264  3.37633571 ...  9.06582318  6.66174451\n",
      "  7.73636841]\n"
     ]
    },
    {
     "data": {
      "text/plain": [
       "<matplotlib.axes._subplots.AxesSubplot at 0x1146070b8>"
      ]
     },
     "execution_count": 3,
     "metadata": {},
     "output_type": "execute_result"
    },
    {
     "data": {
      "image/png": "[encoded data removed]",
      "text/plain": [
       "<matplotlib.figure.Figure at 0x1144de978>"
      ]
     },
     "metadata": {},
     "output_type": "display_data"
    }
   ],
   "source": [
    "Mean1 = 2  # Input parameter, mean of first normal probability distribution\n",
    "Standard_dev1 = 4 #@param {type:\"number\"}\n",
    "Mean2 = 9 # Input parameter, mean of second normal  probability distribution\n",
    "Standard_dev2 = 2 #@param {type:\"number\"}\n",
    "\n",
    "# generate data\n",
    "y1 = np.random.normal(Mean1, Standard_dev1, 1000)\n",
    "y2 = np.random.normal(Mean2, Standard_dev2, 500)\n",
    "data=np.append(y1,y2)\n",
    "print(data)\n",
    "\n",
    "# For data visiualisation calculate left and right of the graph\n",
    "Min_graph = min(data)\n",
    "Max_graph = max(data)\n",
    "x = np.linspace(Min_graph, Max_graph, 2000) # to plot the data\n",
    "\n",
    "sns.distplot(data, bins=20, kde=False)"
   ]
  },
  {
   "cell_type": "code",
   "execution_count": 4,
   "metadata": {},
   "outputs": [
    {
     "name": "stdout",
     "output_type": "stream",
     "text": [
      "done\n"
     ]
    }
   ],
   "source": [
    "class Gaussian:\n",
    "    \"Model univariate Gaussian\"\n",
    "    def __init__(self, mu, sigma):\n",
    "        #mean and standard deviation\n",
    "        self.mu = mu\n",
    "        self.sigma = sigma\n",
    "\n",
    "    #probability density function\n",
    "    def pdf(self, datum):\n",
    "        \"PDF Of gaussian distribution\"\n",
    "        \"Probability of a data point given the current parameters\"\n",
    "        u = (datum - self.mu) / abs(self.sigma)\n",
    "        y = (1 / (sqrt(2 * pi) * abs(self.sigma))) * exp(-u * u / 2)\n",
    "        return y\n",
    "    \n",
    "    def __repr__(self):\n",
    "        return 'Gaussian({0:4.6}, {1:4.6})'.format(self.mu, self.sigma)\n",
    "print(\"done\")"
   ]
  },
  {
   "cell_type": "code",
   "execution_count": 9,
   "metadata": {},
   "outputs": [
    {
     "name": "stdout",
     "output_type": "stream",
     "text": [
      "Best single Gaussian: μ = 4.2, σ = 4.9\n",
      "Mean of fitting gaussian is 4.2146301403131705\n",
      "Standard deviation of fitting gaussian is 4.850670553053463\n"
     ]
    },
    {
     "data": {
      "image/png": "[encoded data removed]",
      "text/plain": [
       "<matplotlib.figure.Figure at 0x11498d908>"
      ]
     },
     "metadata": {},
     "output_type": "display_data"
    }
   ],
   "source": [
    "\"A single Gaussion will not fit the data well\"\n",
    "\n",
    "#gaussian of best fit\n",
    "best_single = Gaussian(np.mean(data), np.std(data))\n",
    "print('Best single Gaussian: μ = {:.2}, σ = {:.2}'.format(best_single.mu, best_single.sigma))\n",
    "\n",
    "\n",
    "#fit a single gaussian curve to the data\n",
    "print('Mean of fitting gaussian is '+ str(best_single.mu))\n",
    "print('Standard deviation of fitting gaussian is '+ str(best_single.sigma))\n",
    "g_single = stats.norm(best_single.mu, best_single.sigma).pdf(x)\n",
    "sns.distplot(data, bins=20, kde=False, norm_hist=True)\n",
    "plt.plot(x, g_single, label='single gaussian')\n",
    "plt.legend();"
   ]
  },
  {
   "cell_type": "code",
   "execution_count": 19,
   "metadata": {},
   "outputs": [
    {
     "name": "stdout",
     "output_type": "stream",
     "text": [
      "done\n"
     ]
    }
   ],
   "source": [
    "class GaussianMixture_self:\n",
    "    \"Model mixture of two univariate Gaussians and their EM estimation\"\n",
    "\n",
    "    def __init__(self, data, mu_min=min(data), mu_max=max(data), sigma_min=1, sigma_max=1, mix=.5):\n",
    "        self.data = data\n",
    "        #todo the Algorithm would be numerical enhanced by normalizing the data first, next do all the EM steps and do the de-normalising at the end\n",
    "        #init with multiple gaussians\n",
    "        \n",
    "        #'Uniform' draws samples from a uniform distribution.\n",
    "\n",
    "\n",
    "        self.one = Gaussian(uniform(mu_min, mu_max), \n",
    "                            uniform(sigma_min, sigma_max))\n",
    "        self.two = Gaussian(uniform(mu_min, mu_max), \n",
    "                            uniform(sigma_min, sigma_max))\n",
    "        \n",
    "        #how well to mix the gaussians\n",
    "        self.mix = mix\n",
    "\n",
    "    def Estep(self):\n",
    "        \"E(stimation)-step, assign each point to gaussian 1 or 2 with a percentage\"\n",
    "        \n",
    "        # compute weights\n",
    "        self.loglike = 0. # = log(p = 1)\n",
    "        for datum in self.data:  \n",
    "            # unnormalized weights\n",
    "            wp1 = self.one.pdf(datum) * self.mix\n",
    "            wp2 = self.two.pdf(datum) * (1. - self.mix)\n",
    "            # compute denominator\n",
    "            den = wp1 + wp2\n",
    "            # normalize\n",
    "            wp1 /= den   \n",
    "            wp2 /= den     # wp1+wp2= 1, it either belongs to gaussian 1 or gaussion 2\n",
    "            # add into loglike\n",
    "            self.loglike += log(wp1 + wp2) #freshening up self.loglike in the process\n",
    "            # yield weight tuple\n",
    "            yield (wp1, wp2)\n",
    "\n",
    "    def Mstep(self, weights):\n",
    "        \"Perform an M(aximization)-step\"\n",
    "        # compute denominators\n",
    "        (left, rigt) = zip(*weights) \n",
    "        one_den = sum(left)\n",
    "        two_den = sum(rigt)\n",
    "\n",
    "        # compute new means\n",
    "        self.one.mu = sum(w * d  for (w, d) in zip(left, data)) / one_den\n",
    "        self.two.mu = sum(w * d  for (w, d) in zip(rigt, data)) / two_den\n",
    "        \n",
    "        # compute new sigmas\n",
    "        self.one.sigma = sqrt(sum(w * ((d - self.one.mu) ** 2)\n",
    "                                  for (w, d) in zip(left, data)) / one_den)\n",
    "        self.two.sigma = sqrt(sum(w * ((d - self.two.mu) ** 2)\n",
    "                                  for (w, d) in zip(rigt, data)) / two_den)\n",
    "        # compute new mix\n",
    "        self.mix = one_den / len(data)\n",
    "\n",
    "     \n",
    "    \"Verbose is a general programming term for produce lots of logging output. You can think of it as asking the program to tell me everything about what you are doing all the time.\"\n",
    "    \n",
    "    def iterate(self, N=1, verbose=False):\n",
    "        \"Perform N iterations, then compute log-likelihood\"\n",
    "        for i in range(1, N+1):\n",
    "            self.Mstep(self.Estep()) #The heart of the algorith, perform E-stepand next M-step\n",
    "            if verbose:\n",
    "                print('{0:2} {1}'.format(i, self))\n",
    "        self.Estep() # to freshen up self.loglike\n",
    "\n",
    "    def pdf(self, x):\n",
    "        return (self.mix)*self.one.pdf(x) + (1-self.mix)*self.two.pdf(x)\n",
    "        \n",
    "    def __repr__(self):\n",
    "        return 'GaussianMixture({0}, {1}, mix={2.03})'.format(self.one, \n",
    "                                                              self.two, \n",
    "                                                              self.mix)\n",
    "\n",
    "    def __str__(self):\n",
    "        return 'Mixture: {0}, {1}, mix={2:.03})'.format(self.one, \n",
    "                                                        self.two, \n",
    "                                                        self.mix)\n",
    "print(\"done\")"
   ]
  },
  {
   "cell_type": "code",
   "execution_count": 20,
   "metadata": {},
   "outputs": [
    {
     "name": "stdout",
     "output_type": "stream",
     "text": [
      " 1 Mixture: Gaussian(-8.99228, 1.37431), Gaussian(4.28471, 4.76586), mix=0.00528)\n",
      " 1 Mixture: Gaussian(-8.33561, 1.46212), Gaussian(4.25674, 4.80318), mix=0.00334)\n",
      " 1 Mixture: Gaussian(-7.82462, 1.38221), Gaussian(4.24806, 4.81513), mix=0.00277)\n",
      " 1 Mixture: Gaussian(-7.47141, 1.24351), Gaussian(4.24516, 4.81962), mix=0.00261)\n",
      " 1 Mixture: Gaussian(-7.26184, 1.12581), Gaussian(4.24498, 4.82065), mix=0.00264)\n"
     ]
    }
   ],
   "source": [
    "# See the algorithem in action\n",
    "n_iterations = 5\n",
    "best_mix = None\n",
    "best_loglike = float('-inf')\n",
    "mix = GaussianMixture_self(data)\n",
    "for _ in range(n_iterations):\n",
    "    try:\n",
    "        #train!\n",
    "        mix.iterate(verbose=True)\n",
    "        if mix.loglike > best_loglike:\n",
    "            best_loglike = mix.loglike\n",
    "            best_mix = mix\n",
    "        \n",
    "    except (ZeroDivisionError, ValueError, RuntimeWarning): # Catch division errors from bad starts, and just throw them out...\n",
    "        print(\"one less\")\n",
    "        pass"
   ]
  },
  {
   "cell_type": "code",
   "execution_count": 21,
   "metadata": {},
   "outputs": [
    {
     "name": "stdout",
     "output_type": "stream",
     "text": [
      "Computing best model with random restarts...\n",
      "\n",
      "Best Gaussian Mixture : μ = 1.8, σ = 4.1 with μ = 8.9, σ = 2.0\n"
     ]
    },
    {
     "data": {
      "image/png": "[encoded data removed]",
      "text/plain": [
       "<matplotlib.figure.Figure at 0x114a91dd8>"
      ]
     },
     "metadata": {},
     "output_type": "display_data"
    }
   ],
   "source": [
    "# Find best Mixture Gaussian model\n",
    "n_iterations = 300\n",
    "n_random_restarts = 4\n",
    "best_mix = None\n",
    "best_loglike = float('-inf')\n",
    "print('Computing best model with random restarts...\\n')\n",
    "for _ in range(n_random_restarts):\n",
    "    mix = GaussianMixture_self(data)\n",
    "    for _ in range(n_iterations):\n",
    "        try:\n",
    "            mix.iterate()\n",
    "            if mix.loglike > best_loglike:\n",
    "                best_loglike = mix.loglike\n",
    "                best_mix = mix\n",
    "        except (ZeroDivisionError, ValueError, RuntimeWarning): # Catch division errors from bad starts, and just throw them out...\n",
    "            pass\n",
    "print('Best Gaussian Mixture : μ = {:.2}, σ = {:.2} with μ = {:.2}, σ = {:.2}'.format(best_mix.one.mu, best_mix.one.sigma, best_mix.two.mu, best_mix.two.sigma))\n",
    "\n",
    "#Show mixture\n",
    "sns.distplot(data, bins=20, kde=False, norm_hist=True)\n",
    "g_both = [best_mix.pdf(e) for e in x]\n",
    "plt.plot(x, g_both, label='gaussian mixture');\n",
    "g_left = [best_mix.one.pdf(e) * best_mix.mix for e in x]\n",
    "plt.plot(x, g_left, label='gaussian one');\n",
    "g_right = [best_mix.two.pdf(e) * (1-best_mix.mix) for e in x]\n",
    "plt.plot(x, g_right, label='gaussian two');\n",
    "plt.legend();"
   ]
  }
 ],
 "metadata": {
  "kernelspec": {
   "display_name": "Python 3",
   "language": "python",
   "name": "python3"
  },
  "language_info": {
   "codemirror_mode": {
    "name": "ipython",
    "version": 3
   },
   "file_extension": ".py",
   "mimetype": "text/x-python",
   "name": "python",
   "nbconvert_exporter": "python",
   "pygments_lexer": "ipython3",
   "version": "3.6.4"
  }
 },
 "nbformat": 4,
 "nbformat_minor": 2
}
